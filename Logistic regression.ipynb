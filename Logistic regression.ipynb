{
 "cells": [
  {
   "cell_type": "markdown",
   "metadata": {},
   "source": [
    "# Logistic regression"
   ]
  },
  {
   "cell_type": "markdown",
   "metadata": {},
   "source": [
    "A bank wants to find out how many of the new credit applicants are actually credit worthy. Based on historical data (df) a model will be built and then applied to the applicants dataset (to_score)"
   ]
  },
  {
   "cell_type": "markdown",
   "metadata": {},
   "source": [
    "## Imports "
   ]
  },
  {
   "cell_type": "code",
   "execution_count": 44,
   "metadata": {},
   "outputs": [],
   "source": [
    "import pandas as pd\n",
    "import seaborn as sns\n",
    "import matplotlib.pyplot as plt\n",
    "import numpy as np\n",
    "\n",
    "from sklearn import linear_model\n",
    "from sklearn.metrics import roc_auc_score\n",
    "from sklearn.model_selection import train_test_split\n",
    "from sklearn.feature_selection import RFE"
   ]
  },
  {
   "cell_type": "code",
   "execution_count": 45,
   "metadata": {},
   "outputs": [],
   "source": [
    "df = pd.read_excel('/Users/jackfederle/Documents/python/credit-data-training.xlsx')\n",
    "to_score = pd.read_excel('/Users/jackfederle/Documents/python/customers-to-score.xlsx')"
   ]
  },
  {
   "cell_type": "code",
   "execution_count": 46,
   "metadata": {},
   "outputs": [
    {
     "data": {
      "text/html": [
       "<div>\n",
       "<style scoped>\n",
       "    .dataframe tbody tr th:only-of-type {\n",
       "        vertical-align: middle;\n",
       "    }\n",
       "\n",
       "    .dataframe tbody tr th {\n",
       "        vertical-align: top;\n",
       "    }\n",
       "\n",
       "    .dataframe thead th {\n",
       "        text-align: right;\n",
       "    }\n",
       "</style>\n",
       "<table border=\"1\" class=\"dataframe\">\n",
       "  <thead>\n",
       "    <tr style=\"text-align: right;\">\n",
       "      <th></th>\n",
       "      <th>Account-Balance</th>\n",
       "      <th>Duration-of-Credit-Month</th>\n",
       "      <th>Payment-Status-of-Previous-Credit</th>\n",
       "      <th>Purpose</th>\n",
       "      <th>Credit-Amount</th>\n",
       "      <th>Value-Savings-Stocks</th>\n",
       "      <th>Length-of-current-employment</th>\n",
       "      <th>Instalment-per-cent</th>\n",
       "      <th>Guarantors</th>\n",
       "      <th>Duration-in-Current-address</th>\n",
       "      <th>Most-valuable-available-asset</th>\n",
       "      <th>Age-years</th>\n",
       "      <th>Concurrent-Credits</th>\n",
       "      <th>Type-of-apartment</th>\n",
       "      <th>No-of-Credits-at-this-Bank</th>\n",
       "      <th>Occupation</th>\n",
       "      <th>No-of-dependents</th>\n",
       "      <th>Telephone</th>\n",
       "      <th>Foreign-Worker</th>\n",
       "    </tr>\n",
       "  </thead>\n",
       "  <tbody>\n",
       "    <tr>\n",
       "      <th>0</th>\n",
       "      <td>No Account</td>\n",
       "      <td>9</td>\n",
       "      <td>No Problems (in this bank)</td>\n",
       "      <td>Home Related</td>\n",
       "      <td>2799</td>\n",
       "      <td>None</td>\n",
       "      <td>&lt; 1yr</td>\n",
       "      <td>2</td>\n",
       "      <td>None</td>\n",
       "      <td>2</td>\n",
       "      <td>1</td>\n",
       "      <td>36</td>\n",
       "      <td>Other Banks/Depts</td>\n",
       "      <td>1</td>\n",
       "      <td>More than 1</td>\n",
       "      <td>1</td>\n",
       "      <td>2</td>\n",
       "      <td>1</td>\n",
       "      <td>1</td>\n",
       "    </tr>\n",
       "    <tr>\n",
       "      <th>1</th>\n",
       "      <td>No Account</td>\n",
       "      <td>12</td>\n",
       "      <td>No Problems (in this bank)</td>\n",
       "      <td>Home Related</td>\n",
       "      <td>2122</td>\n",
       "      <td>None</td>\n",
       "      <td>&lt; 1yr</td>\n",
       "      <td>3</td>\n",
       "      <td>None</td>\n",
       "      <td>2</td>\n",
       "      <td>1</td>\n",
       "      <td>39</td>\n",
       "      <td>Other Banks/Depts</td>\n",
       "      <td>1</td>\n",
       "      <td>More than 1</td>\n",
       "      <td>1</td>\n",
       "      <td>2</td>\n",
       "      <td>1</td>\n",
       "      <td>2</td>\n",
       "    </tr>\n",
       "    <tr>\n",
       "      <th>2</th>\n",
       "      <td>No Account</td>\n",
       "      <td>24</td>\n",
       "      <td>Paid Up</td>\n",
       "      <td>Home Related</td>\n",
       "      <td>3758</td>\n",
       "      <td>£100-£1000</td>\n",
       "      <td>&lt; 1yr</td>\n",
       "      <td>1</td>\n",
       "      <td>None</td>\n",
       "      <td>4</td>\n",
       "      <td>4</td>\n",
       "      <td>23</td>\n",
       "      <td>Other Banks/Depts</td>\n",
       "      <td>1</td>\n",
       "      <td>1</td>\n",
       "      <td>1</td>\n",
       "      <td>1</td>\n",
       "      <td>1</td>\n",
       "      <td>1</td>\n",
       "    </tr>\n",
       "  </tbody>\n",
       "</table>\n",
       "</div>"
      ],
      "text/plain": [
       "  Account-Balance  Duration-of-Credit-Month Payment-Status-of-Previous-Credit  \\\n",
       "0      No Account                         9        No Problems (in this bank)   \n",
       "1      No Account                        12        No Problems (in this bank)   \n",
       "2      No Account                        24                           Paid Up   \n",
       "\n",
       "        Purpose  Credit-Amount Value-Savings-Stocks  \\\n",
       "0  Home Related           2799                 None   \n",
       "1  Home Related           2122                 None   \n",
       "2  Home Related           3758           £100-£1000   \n",
       "\n",
       "  Length-of-current-employment  Instalment-per-cent Guarantors  \\\n",
       "0                        < 1yr                    2       None   \n",
       "1                        < 1yr                    3       None   \n",
       "2                        < 1yr                    1       None   \n",
       "\n",
       "   Duration-in-Current-address  Most-valuable-available-asset  Age-years  \\\n",
       "0                            2                              1         36   \n",
       "1                            2                              1         39   \n",
       "2                            4                              4         23   \n",
       "\n",
       "  Concurrent-Credits  Type-of-apartment No-of-Credits-at-this-Bank  \\\n",
       "0  Other Banks/Depts                  1                More than 1   \n",
       "1  Other Banks/Depts                  1                More than 1   \n",
       "2  Other Banks/Depts                  1                          1   \n",
       "\n",
       "   Occupation  No-of-dependents  Telephone  Foreign-Worker  \n",
       "0           1                 2          1               1  \n",
       "1           1                 2          1               2  \n",
       "2           1                 1          1               1  "
      ]
     },
     "execution_count": 46,
     "metadata": {},
     "output_type": "execute_result"
    }
   ],
   "source": [
    "to_score.head(3)"
   ]
  },
  {
   "cell_type": "markdown",
   "metadata": {},
   "source": [
    "## Data exploration and cleansing "
   ]
  },
  {
   "cell_type": "code",
   "execution_count": 47,
   "metadata": {
    "scrolled": true
   },
   "outputs": [
    {
     "name": "stdout",
     "output_type": "stream",
     "text": [
      "<class 'pandas.core.frame.DataFrame'>\n",
      "RangeIndex: 500 entries, 0 to 499\n",
      "Data columns (total 20 columns):\n",
      "Credit-Application-Result            500 non-null object\n",
      "Account-Balance                      500 non-null object\n",
      "Duration-of-Credit-Month             500 non-null int64\n",
      "Payment-Status-of-Previous-Credit    500 non-null object\n",
      "Purpose                              500 non-null object\n",
      "Credit-Amount                        500 non-null int64\n",
      "Value-Savings-Stocks                 500 non-null object\n",
      "Length-of-current-employment         500 non-null object\n",
      "Instalment-per-cent                  500 non-null int64\n",
      "Guarantors                           500 non-null object\n",
      "Duration-in-Current-address          156 non-null float64\n",
      "Most-valuable-available-asset        500 non-null int64\n",
      "Age-years                            488 non-null float64\n",
      "Concurrent-Credits                   500 non-null object\n",
      "Type-of-apartment                    500 non-null int64\n",
      "No-of-Credits-at-this-Bank           500 non-null object\n",
      "Occupation                           500 non-null int64\n",
      "No-of-dependents                     500 non-null int64\n",
      "Telephone                            500 non-null int64\n",
      "Foreign-Worker                       500 non-null int64\n",
      "dtypes: float64(2), int64(9), object(9)\n",
      "memory usage: 78.2+ KB\n"
     ]
    }
   ],
   "source": [
    "df.info()"
   ]
  },
  {
   "cell_type": "markdown",
   "metadata": {},
   "source": [
    "There are a lot of missing values for the variable Duration-in-Current-address, imputing seems to be not an option, so it will be dropped "
   ]
  },
  {
   "cell_type": "code",
   "execution_count": 48,
   "metadata": {},
   "outputs": [],
   "source": [
    "df = df.drop(['Duration-in-Current-address'], axis=1)"
   ]
  },
  {
   "cell_type": "markdown",
   "metadata": {},
   "source": [
    "There are 12 missing values for the Age-years variable"
   ]
  },
  {
   "cell_type": "code",
   "execution_count": 49,
   "metadata": {},
   "outputs": [
    {
     "data": {
      "image/png": "[encoded data removed]",
      "text/plain": [
       "<Figure size 432x288 with 1 Axes>"
      ]
     },
     "metadata": {},
     "output_type": "display_data"
    }
   ],
   "source": [
    "df['Age-years'].hist()\n",
    "plt.title('Histogram of Age')\n",
    "plt.xlabel('Age')\n",
    "plt.ylabel('Frequency')\n",
    "plt.show()"
   ]
  },
  {
   "cell_type": "markdown",
   "metadata": {},
   "source": [
    "the missing values will be imputed with the median values"
   ]
  },
  {
   "cell_type": "code",
   "execution_count": 50,
   "metadata": {},
   "outputs": [],
   "source": [
    "df['Age-years'] = df['Age-years'].fillna(df['Age-years'].median())"
   ]
  },
  {
   "cell_type": "markdown",
   "metadata": {},
   "source": [
    "Variables with no variability are of no use for the model, so any variable with standard deviation equal to zero will be dropped"
   ]
  },
  {
   "cell_type": "code",
   "execution_count": 51,
   "metadata": {
    "scrolled": false
   },
   "outputs": [
    {
     "data": {
      "text/html": [
       "<div>\n",
       "<style scoped>\n",
       "    .dataframe tbody tr th:only-of-type {\n",
       "        vertical-align: middle;\n",
       "    }\n",
       "\n",
       "    .dataframe tbody tr th {\n",
       "        vertical-align: top;\n",
       "    }\n",
       "\n",
       "    .dataframe thead th {\n",
       "        text-align: right;\n",
       "    }\n",
       "</style>\n",
       "<table border=\"1\" class=\"dataframe\">\n",
       "  <thead>\n",
       "    <tr style=\"text-align: right;\">\n",
       "      <th></th>\n",
       "      <th>Duration-of-Credit-Month</th>\n",
       "      <th>Credit-Amount</th>\n",
       "      <th>Instalment-per-cent</th>\n",
       "      <th>Most-valuable-available-asset</th>\n",
       "      <th>Age-years</th>\n",
       "      <th>Type-of-apartment</th>\n",
       "      <th>Occupation</th>\n",
       "      <th>No-of-dependents</th>\n",
       "      <th>Telephone</th>\n",
       "      <th>Foreign-Worker</th>\n",
       "    </tr>\n",
       "  </thead>\n",
       "  <tbody>\n",
       "    <tr>\n",
       "      <th>count</th>\n",
       "      <td>500.00000</td>\n",
       "      <td>500.000000</td>\n",
       "      <td>500.000000</td>\n",
       "      <td>500.000000</td>\n",
       "      <td>500.000000</td>\n",
       "      <td>500.000000</td>\n",
       "      <td>500.0</td>\n",
       "      <td>500.00000</td>\n",
       "      <td>500.000000</td>\n",
       "      <td>500.000000</td>\n",
       "    </tr>\n",
       "    <tr>\n",
       "      <th>mean</th>\n",
       "      <td>21.43400</td>\n",
       "      <td>3199.980000</td>\n",
       "      <td>3.010000</td>\n",
       "      <td>2.360000</td>\n",
       "      <td>35.574000</td>\n",
       "      <td>1.928000</td>\n",
       "      <td>1.0</td>\n",
       "      <td>1.14600</td>\n",
       "      <td>1.400000</td>\n",
       "      <td>1.038000</td>\n",
       "    </tr>\n",
       "    <tr>\n",
       "      <th>std</th>\n",
       "      <td>12.30742</td>\n",
       "      <td>2831.386861</td>\n",
       "      <td>1.113724</td>\n",
       "      <td>1.064268</td>\n",
       "      <td>11.369567</td>\n",
       "      <td>0.539814</td>\n",
       "      <td>0.0</td>\n",
       "      <td>0.35346</td>\n",
       "      <td>0.490389</td>\n",
       "      <td>0.191388</td>\n",
       "    </tr>\n",
       "    <tr>\n",
       "      <th>min</th>\n",
       "      <td>4.00000</td>\n",
       "      <td>276.000000</td>\n",
       "      <td>1.000000</td>\n",
       "      <td>1.000000</td>\n",
       "      <td>19.000000</td>\n",
       "      <td>1.000000</td>\n",
       "      <td>1.0</td>\n",
       "      <td>1.00000</td>\n",
       "      <td>1.000000</td>\n",
       "      <td>1.000000</td>\n",
       "    </tr>\n",
       "    <tr>\n",
       "      <th>25%</th>\n",
       "      <td>12.00000</td>\n",
       "      <td>1357.250000</td>\n",
       "      <td>2.000000</td>\n",
       "      <td>1.000000</td>\n",
       "      <td>27.000000</td>\n",
       "      <td>2.000000</td>\n",
       "      <td>1.0</td>\n",
       "      <td>1.00000</td>\n",
       "      <td>1.000000</td>\n",
       "      <td>1.000000</td>\n",
       "    </tr>\n",
       "    <tr>\n",
       "      <th>50%</th>\n",
       "      <td>18.00000</td>\n",
       "      <td>2236.500000</td>\n",
       "      <td>3.000000</td>\n",
       "      <td>3.000000</td>\n",
       "      <td>33.000000</td>\n",
       "      <td>2.000000</td>\n",
       "      <td>1.0</td>\n",
       "      <td>1.00000</td>\n",
       "      <td>1.000000</td>\n",
       "      <td>1.000000</td>\n",
       "    </tr>\n",
       "    <tr>\n",
       "      <th>75%</th>\n",
       "      <td>24.00000</td>\n",
       "      <td>3941.500000</td>\n",
       "      <td>4.000000</td>\n",
       "      <td>3.000000</td>\n",
       "      <td>41.000000</td>\n",
       "      <td>2.000000</td>\n",
       "      <td>1.0</td>\n",
       "      <td>1.00000</td>\n",
       "      <td>2.000000</td>\n",
       "      <td>1.000000</td>\n",
       "    </tr>\n",
       "    <tr>\n",
       "      <th>max</th>\n",
       "      <td>60.00000</td>\n",
       "      <td>18424.000000</td>\n",
       "      <td>4.000000</td>\n",
       "      <td>4.000000</td>\n",
       "      <td>75.000000</td>\n",
       "      <td>3.000000</td>\n",
       "      <td>1.0</td>\n",
       "      <td>2.00000</td>\n",
       "      <td>2.000000</td>\n",
       "      <td>2.000000</td>\n",
       "    </tr>\n",
       "  </tbody>\n",
       "</table>\n",
       "</div>"
      ],
      "text/plain": [
       "       Duration-of-Credit-Month  Credit-Amount  Instalment-per-cent  \\\n",
       "count                 500.00000     500.000000           500.000000   \n",
       "mean                   21.43400    3199.980000             3.010000   \n",
       "std                    12.30742    2831.386861             1.113724   \n",
       "min                     4.00000     276.000000             1.000000   \n",
       "25%                    12.00000    1357.250000             2.000000   \n",
       "50%                    18.00000    2236.500000             3.000000   \n",
       "75%                    24.00000    3941.500000             4.000000   \n",
       "max                    60.00000   18424.000000             4.000000   \n",
       "\n",
       "       Most-valuable-available-asset   Age-years  Type-of-apartment  \\\n",
       "count                     500.000000  500.000000         500.000000   \n",
       "mean                        2.360000   35.574000           1.928000   \n",
       "std                         1.064268   11.369567           0.539814   \n",
       "min                         1.000000   19.000000           1.000000   \n",
       "25%                         1.000000   27.000000           2.000000   \n",
       "50%                         3.000000   33.000000           2.000000   \n",
       "75%                         3.000000   41.000000           2.000000   \n",
       "max                         4.000000   75.000000           3.000000   \n",
       "\n",
       "       Occupation  No-of-dependents   Telephone  Foreign-Worker  \n",
       "count       500.0         500.00000  500.000000      500.000000  \n",
       "mean          1.0           1.14600    1.400000        1.038000  \n",
       "std           0.0           0.35346    0.490389        0.191388  \n",
       "min           1.0           1.00000    1.000000        1.000000  \n",
       "25%           1.0           1.00000    1.000000        1.000000  \n",
       "50%           1.0           1.00000    1.000000        1.000000  \n",
       "75%           1.0           1.00000    2.000000        1.000000  \n",
       "max           1.0           2.00000    2.000000        2.000000  "
      ]
     },
     "execution_count": 51,
     "metadata": {},
     "output_type": "execute_result"
    }
   ],
   "source": [
    "df.describe()"
   ]
  },
  {
   "cell_type": "code",
   "execution_count": 52,
   "metadata": {},
   "outputs": [],
   "source": [
    "df = df.drop(['Occupation'], axis=1)"
   ]
  },
  {
   "cell_type": "code",
   "execution_count": 53,
   "metadata": {},
   "outputs": [
    {
     "data": {
      "text/plain": [
       "array(['Other Banks/Depts'], dtype=object)"
      ]
     },
     "execution_count": 53,
     "metadata": {},
     "output_type": "execute_result"
    }
   ],
   "source": [
    "df['Concurrent-Credits'].unique()"
   ]
  },
  {
   "cell_type": "markdown",
   "metadata": {},
   "source": [
    "Concurrent-Credits having only one category will not make for a good predictor variable"
   ]
  },
  {
   "cell_type": "code",
   "execution_count": 54,
   "metadata": {},
   "outputs": [],
   "source": [
    "df = df.drop(['Concurrent-Credits'], axis=1)"
   ]
  },
  {
   "cell_type": "markdown",
   "metadata": {},
   "source": [
    "#### Target variable exploration"
   ]
  },
  {
   "cell_type": "markdown",
   "metadata": {},
   "source": [
    "The next step is to explore the relation among the variables. To then pick the predictor variables for the model, the recursive feature elimination will be applied, more on this later. "
   ]
  },
  {
   "cell_type": "markdown",
   "metadata": {},
   "source": [
    "#### Target variable, credit application result"
   ]
  },
  {
   "cell_type": "code",
   "execution_count": 55,
   "metadata": {
    "scrolled": false
   },
   "outputs": [
    {
     "data": {
      "text/html": [
       "<div>\n",
       "<style scoped>\n",
       "    .dataframe tbody tr th:only-of-type {\n",
       "        vertical-align: middle;\n",
       "    }\n",
       "\n",
       "    .dataframe tbody tr th {\n",
       "        vertical-align: top;\n",
       "    }\n",
       "\n",
       "    .dataframe thead th {\n",
       "        text-align: right;\n",
       "    }\n",
       "</style>\n",
       "<table border=\"1\" class=\"dataframe\">\n",
       "  <thead>\n",
       "    <tr style=\"text-align: right;\">\n",
       "      <th></th>\n",
       "      <th>Duration-of-Credit-Month</th>\n",
       "      <th>Credit-Amount</th>\n",
       "      <th>Instalment-per-cent</th>\n",
       "      <th>Most-valuable-available-asset</th>\n",
       "      <th>Age-years</th>\n",
       "      <th>Type-of-apartment</th>\n",
       "      <th>No-of-dependents</th>\n",
       "      <th>Telephone</th>\n",
       "      <th>Foreign-Worker</th>\n",
       "    </tr>\n",
       "    <tr>\n",
       "      <th>Credit-Application-Result</th>\n",
       "      <th></th>\n",
       "      <th></th>\n",
       "      <th></th>\n",
       "      <th></th>\n",
       "      <th></th>\n",
       "      <th></th>\n",
       "      <th></th>\n",
       "      <th></th>\n",
       "      <th></th>\n",
       "    </tr>\n",
       "  </thead>\n",
       "  <tbody>\n",
       "    <tr>\n",
       "      <th>Creditworthy</th>\n",
       "      <td>19.865922</td>\n",
       "      <td>2840.229050</td>\n",
       "      <td>2.966480</td>\n",
       "      <td>2.265363</td>\n",
       "      <td>35.952514</td>\n",
       "      <td>1.918994</td>\n",
       "      <td>1.136872</td>\n",
       "      <td>1.391061</td>\n",
       "      <td>1.039106</td>\n",
       "    </tr>\n",
       "    <tr>\n",
       "      <th>Non-Creditworthy</th>\n",
       "      <td>25.387324</td>\n",
       "      <td>4106.957746</td>\n",
       "      <td>3.119718</td>\n",
       "      <td>2.598592</td>\n",
       "      <td>34.619718</td>\n",
       "      <td>1.950704</td>\n",
       "      <td>1.169014</td>\n",
       "      <td>1.422535</td>\n",
       "      <td>1.035211</td>\n",
       "    </tr>\n",
       "  </tbody>\n",
       "</table>\n",
       "</div>"
      ],
      "text/plain": [
       "                           Duration-of-Credit-Month  Credit-Amount  \\\n",
       "Credit-Application-Result                                            \n",
       "Creditworthy                              19.865922    2840.229050   \n",
       "Non-Creditworthy                          25.387324    4106.957746   \n",
       "\n",
       "                           Instalment-per-cent  Most-valuable-available-asset  \\\n",
       "Credit-Application-Result                                                       \n",
       "Creditworthy                          2.966480                       2.265363   \n",
       "Non-Creditworthy                      3.119718                       2.598592   \n",
       "\n",
       "                           Age-years  Type-of-apartment  No-of-dependents  \\\n",
       "Credit-Application-Result                                                   \n",
       "Creditworthy               35.952514           1.918994          1.136872   \n",
       "Non-Creditworthy           34.619718           1.950704          1.169014   \n",
       "\n",
       "                           Telephone  Foreign-Worker  \n",
       "Credit-Application-Result                             \n",
       "Creditworthy                1.391061        1.039106  \n",
       "Non-Creditworthy            1.422535        1.035211  "
      ]
     },
     "execution_count": 55,
     "metadata": {},
     "output_type": "execute_result"
    }
   ],
   "source": [
    "df.groupby('Credit-Application-Result').mean()"
   ]
  },
  {
   "cell_type": "markdown",
   "metadata": {},
   "source": [
    "At first glance it looks like Type-of-apartment, No-of-dependents and Foreign-Worker may not very significant. On the other hand, the duration of the credit and the amount credited seems to be interesting variables to consider"
   ]
  },
  {
   "cell_type": "code",
   "execution_count": 56,
   "metadata": {
    "scrolled": true
   },
   "outputs": [
    {
     "data": {
      "image/png": "[encoded data removed]",
      "text/plain": [
       "<Figure size 432x288 with 1 Axes>"
      ]
     },
     "metadata": {},
     "output_type": "display_data"
    }
   ],
   "source": [
    "sns.countplot(x = 'Credit-Application-Result', data = df, palette = 'hls')\n",
    "plt.show()"
   ]
  },
  {
   "cell_type": "markdown",
   "metadata": {},
   "source": [
    "#### Payment status of previous credit"
   ]
  },
  {
   "cell_type": "code",
   "execution_count": 57,
   "metadata": {
    "scrolled": true
   },
   "outputs": [
    {
     "data": {
      "image/png": "[encoded data removed]",
      "text/plain": [
       "<Figure size 432x288 with 1 Axes>"
      ]
     },
     "metadata": {},
     "output_type": "display_data"
    }
   ],
   "source": [
    "sns.countplot(data = df, x = 'Payment-Status-of-Previous-Credit', hue = 'Credit-Application-Result', palette = 'hls')\n",
    "plt.show()"
   ]
  },
  {
   "cell_type": "code",
   "execution_count": 58,
   "metadata": {},
   "outputs": [
    {
     "data": {
      "text/html": [
       "<div>\n",
       "<style scoped>\n",
       "    .dataframe tbody tr th:only-of-type {\n",
       "        vertical-align: middle;\n",
       "    }\n",
       "\n",
       "    .dataframe tbody tr th {\n",
       "        vertical-align: top;\n",
       "    }\n",
       "\n",
       "    .dataframe thead th {\n",
       "        text-align: right;\n",
       "    }\n",
       "</style>\n",
       "<table border=\"1\" class=\"dataframe\">\n",
       "  <thead>\n",
       "    <tr style=\"text-align: right;\">\n",
       "      <th></th>\n",
       "      <th>Duration-of-Credit-Month</th>\n",
       "      <th>Credit-Amount</th>\n",
       "      <th>Instalment-per-cent</th>\n",
       "      <th>Most-valuable-available-asset</th>\n",
       "      <th>Age-years</th>\n",
       "      <th>Type-of-apartment</th>\n",
       "      <th>No-of-dependents</th>\n",
       "      <th>Telephone</th>\n",
       "      <th>Foreign-Worker</th>\n",
       "    </tr>\n",
       "    <tr>\n",
       "      <th>Payment-Status-of-Previous-Credit</th>\n",
       "      <th></th>\n",
       "      <th></th>\n",
       "      <th></th>\n",
       "      <th></th>\n",
       "      <th></th>\n",
       "      <th></th>\n",
       "      <th></th>\n",
       "      <th></th>\n",
       "      <th></th>\n",
       "    </tr>\n",
       "  </thead>\n",
       "  <tbody>\n",
       "    <tr>\n",
       "      <th>No Problems (in this bank)</th>\n",
       "      <td>22.088235</td>\n",
       "      <td>3291.720588</td>\n",
       "      <td>3.058824</td>\n",
       "      <td>2.411765</td>\n",
       "      <td>38.147059</td>\n",
       "      <td>2.000000</td>\n",
       "      <td>1.156863</td>\n",
       "      <td>1.436275</td>\n",
       "      <td>1.044118</td>\n",
       "    </tr>\n",
       "    <tr>\n",
       "      <th>Paid Up</th>\n",
       "      <td>20.134615</td>\n",
       "      <td>3004.515385</td>\n",
       "      <td>2.965385</td>\n",
       "      <td>2.257692</td>\n",
       "      <td>33.757692</td>\n",
       "      <td>1.880769</td>\n",
       "      <td>1.130769</td>\n",
       "      <td>1.376923</td>\n",
       "      <td>1.030769</td>\n",
       "    </tr>\n",
       "    <tr>\n",
       "      <th>Some Problems</th>\n",
       "      <td>27.111111</td>\n",
       "      <td>4091.805556</td>\n",
       "      <td>3.055556</td>\n",
       "      <td>2.805556</td>\n",
       "      <td>34.111111</td>\n",
       "      <td>1.861111</td>\n",
       "      <td>1.194444</td>\n",
       "      <td>1.361111</td>\n",
       "      <td>1.055556</td>\n",
       "    </tr>\n",
       "  </tbody>\n",
       "</table>\n",
       "</div>"
      ],
      "text/plain": [
       "                                   Duration-of-Credit-Month  Credit-Amount  \\\n",
       "Payment-Status-of-Previous-Credit                                            \n",
       "No Problems (in this bank)                        22.088235    3291.720588   \n",
       "Paid Up                                           20.134615    3004.515385   \n",
       "Some Problems                                     27.111111    4091.805556   \n",
       "\n",
       "                                   Instalment-per-cent  \\\n",
       "Payment-Status-of-Previous-Credit                        \n",
       "No Problems (in this bank)                    3.058824   \n",
       "Paid Up                                       2.965385   \n",
       "Some Problems                                 3.055556   \n",
       "\n",
       "                                   Most-valuable-available-asset  Age-years  \\\n",
       "Payment-Status-of-Previous-Credit                                             \n",
       "No Problems (in this bank)                              2.411765  38.147059   \n",
       "Paid Up                                                 2.257692  33.757692   \n",
       "Some Problems                                           2.805556  34.111111   \n",
       "\n",
       "                                   Type-of-apartment  No-of-dependents  \\\n",
       "Payment-Status-of-Previous-Credit                                        \n",
       "No Problems (in this bank)                  2.000000          1.156863   \n",
       "Paid Up                                     1.880769          1.130769   \n",
       "Some Problems                               1.861111          1.194444   \n",
       "\n",
       "                                   Telephone  Foreign-Worker  \n",
       "Payment-Status-of-Previous-Credit                             \n",
       "No Problems (in this bank)          1.436275        1.044118  \n",
       "Paid Up                             1.376923        1.030769  \n",
       "Some Problems                       1.361111        1.055556  "
      ]
     },
     "execution_count": 58,
     "metadata": {},
     "output_type": "execute_result"
    }
   ],
   "source": [
    "df.groupby('Payment-Status-of-Previous-Credit').mean()"
   ]
  },
  {
   "cell_type": "markdown",
   "metadata": {},
   "source": [
    "The more problems the longer the duration of the credit. It seems that larger amounts are correlated with problems. "
   ]
  },
  {
   "cell_type": "markdown",
   "metadata": {},
   "source": [
    "#### Account Balance"
   ]
  },
  {
   "cell_type": "code",
   "execution_count": 59,
   "metadata": {},
   "outputs": [
    {
     "data": {
      "image/png": "[encoded data removed]",
      "text/plain": [
       "<Figure size 432x288 with 1 Axes>"
      ]
     },
     "metadata": {},
     "output_type": "display_data"
    }
   ],
   "source": [
    "sns.countplot(data = df, x = 'Account-Balance', hue = 'Credit-Application-Result', palette = 'hls')\n",
    "plt.show()"
   ]
  },
  {
   "cell_type": "markdown",
   "metadata": {},
   "source": [
    "It is not surprising to see how having some balance in their accounts favourites the credit applicants."
   ]
  },
  {
   "cell_type": "markdown",
   "metadata": {},
   "source": [
    "#### Purpose"
   ]
  },
  {
   "cell_type": "code",
   "execution_count": 60,
   "metadata": {},
   "outputs": [
    {
     "data": {
      "text/html": [
       "<div>\n",
       "<style scoped>\n",
       "    .dataframe tbody tr th:only-of-type {\n",
       "        vertical-align: middle;\n",
       "    }\n",
       "\n",
       "    .dataframe tbody tr th {\n",
       "        vertical-align: top;\n",
       "    }\n",
       "\n",
       "    .dataframe thead th {\n",
       "        text-align: right;\n",
       "    }\n",
       "</style>\n",
       "<table border=\"1\" class=\"dataframe\">\n",
       "  <thead>\n",
       "    <tr style=\"text-align: right;\">\n",
       "      <th></th>\n",
       "      <th>Duration-of-Credit-Month</th>\n",
       "      <th>Credit-Amount</th>\n",
       "      <th>Instalment-per-cent</th>\n",
       "      <th>Most-valuable-available-asset</th>\n",
       "      <th>Age-years</th>\n",
       "      <th>Type-of-apartment</th>\n",
       "      <th>No-of-dependents</th>\n",
       "      <th>Telephone</th>\n",
       "      <th>Foreign-Worker</th>\n",
       "    </tr>\n",
       "    <tr>\n",
       "      <th>Purpose</th>\n",
       "      <th></th>\n",
       "      <th></th>\n",
       "      <th></th>\n",
       "      <th></th>\n",
       "      <th></th>\n",
       "      <th></th>\n",
       "      <th></th>\n",
       "      <th></th>\n",
       "      <th></th>\n",
       "    </tr>\n",
       "  </thead>\n",
       "  <tbody>\n",
       "    <tr>\n",
       "      <th>Home Related</th>\n",
       "      <td>21.425352</td>\n",
       "      <td>3024.952113</td>\n",
       "      <td>3.090141</td>\n",
       "      <td>2.323944</td>\n",
       "      <td>35.963380</td>\n",
       "      <td>1.943662</td>\n",
       "      <td>1.157746</td>\n",
       "      <td>1.397183</td>\n",
       "      <td>1.036620</td>\n",
       "    </tr>\n",
       "    <tr>\n",
       "      <th>New car</th>\n",
       "      <td>26.191489</td>\n",
       "      <td>5200.255319</td>\n",
       "      <td>2.680851</td>\n",
       "      <td>2.851064</td>\n",
       "      <td>37.936170</td>\n",
       "      <td>2.000000</td>\n",
       "      <td>1.191489</td>\n",
       "      <td>1.531915</td>\n",
       "      <td>1.021277</td>\n",
       "    </tr>\n",
       "    <tr>\n",
       "      <th>Other</th>\n",
       "      <td>20.000000</td>\n",
       "      <td>3271.066667</td>\n",
       "      <td>3.333333</td>\n",
       "      <td>2.066667</td>\n",
       "      <td>34.600000</td>\n",
       "      <td>1.800000</td>\n",
       "      <td>1.133333</td>\n",
       "      <td>1.333333</td>\n",
       "      <td>1.133333</td>\n",
       "    </tr>\n",
       "    <tr>\n",
       "      <th>Used car</th>\n",
       "      <td>19.036145</td>\n",
       "      <td>2803.060241</td>\n",
       "      <td>2.795181</td>\n",
       "      <td>2.289157</td>\n",
       "      <td>32.746988</td>\n",
       "      <td>1.843373</td>\n",
       "      <td>1.072289</td>\n",
       "      <td>1.349398</td>\n",
       "      <td>1.036145</td>\n",
       "    </tr>\n",
       "  </tbody>\n",
       "</table>\n",
       "</div>"
      ],
      "text/plain": [
       "              Duration-of-Credit-Month  Credit-Amount  Instalment-per-cent  \\\n",
       "Purpose                                                                      \n",
       "Home Related                 21.425352    3024.952113             3.090141   \n",
       "New car                      26.191489    5200.255319             2.680851   \n",
       "Other                        20.000000    3271.066667             3.333333   \n",
       "Used car                     19.036145    2803.060241             2.795181   \n",
       "\n",
       "              Most-valuable-available-asset  Age-years  Type-of-apartment  \\\n",
       "Purpose                                                                     \n",
       "Home Related                       2.323944  35.963380           1.943662   \n",
       "New car                            2.851064  37.936170           2.000000   \n",
       "Other                              2.066667  34.600000           1.800000   \n",
       "Used car                           2.289157  32.746988           1.843373   \n",
       "\n",
       "              No-of-dependents  Telephone  Foreign-Worker  \n",
       "Purpose                                                    \n",
       "Home Related          1.157746   1.397183        1.036620  \n",
       "New car               1.191489   1.531915        1.021277  \n",
       "Other                 1.133333   1.333333        1.133333  \n",
       "Used car              1.072289   1.349398        1.036145  "
      ]
     },
     "execution_count": 60,
     "metadata": {},
     "output_type": "execute_result"
    }
   ],
   "source": [
    "df.groupby('Purpose').mean()"
   ]
  },
  {
   "cell_type": "code",
   "execution_count": 61,
   "metadata": {
    "scrolled": true
   },
   "outputs": [
    {
     "data": {
      "image/png": "[encoded data removed]",
      "text/plain": [
       "<Figure size 432x288 with 1 Axes>"
      ]
     },
     "metadata": {},
     "output_type": "display_data"
    }
   ],
   "source": [
    "sns.countplot(data = df, x = 'Purpose', hue = 'Credit-Application-Result', palette = 'hls')\n",
    "plt.show()"
   ]
  },
  {
   "cell_type": "markdown",
   "metadata": {},
   "source": [
    "Home related credits are the most common, in proportion the most likely to be financed are those who apply for credit for a new car. "
   ]
  },
  {
   "cell_type": "markdown",
   "metadata": {},
   "source": [
    "#### Value Savings Stocks"
   ]
  },
  {
   "cell_type": "code",
   "execution_count": 62,
   "metadata": {
    "scrolled": true
   },
   "outputs": [
    {
     "data": {
      "text/html": [
       "<div>\n",
       "<style scoped>\n",
       "    .dataframe tbody tr th:only-of-type {\n",
       "        vertical-align: middle;\n",
       "    }\n",
       "\n",
       "    .dataframe tbody tr th {\n",
       "        vertical-align: top;\n",
       "    }\n",
       "\n",
       "    .dataframe thead th {\n",
       "        text-align: right;\n",
       "    }\n",
       "</style>\n",
       "<table border=\"1\" class=\"dataframe\">\n",
       "  <thead>\n",
       "    <tr style=\"text-align: right;\">\n",
       "      <th></th>\n",
       "      <th>Duration-of-Credit-Month</th>\n",
       "      <th>Credit-Amount</th>\n",
       "      <th>Instalment-per-cent</th>\n",
       "      <th>Most-valuable-available-asset</th>\n",
       "      <th>Age-years</th>\n",
       "      <th>Type-of-apartment</th>\n",
       "      <th>No-of-dependents</th>\n",
       "      <th>Telephone</th>\n",
       "      <th>Foreign-Worker</th>\n",
       "    </tr>\n",
       "    <tr>\n",
       "      <th>Value-Savings-Stocks</th>\n",
       "      <th></th>\n",
       "      <th></th>\n",
       "      <th></th>\n",
       "      <th></th>\n",
       "      <th></th>\n",
       "      <th></th>\n",
       "      <th></th>\n",
       "      <th></th>\n",
       "      <th></th>\n",
       "    </tr>\n",
       "  </thead>\n",
       "  <tbody>\n",
       "    <tr>\n",
       "      <th>&lt; £100</th>\n",
       "      <td>23.208333</td>\n",
       "      <td>3272.187500</td>\n",
       "      <td>3.104167</td>\n",
       "      <td>2.729167</td>\n",
       "      <td>33.895833</td>\n",
       "      <td>1.875000</td>\n",
       "      <td>1.145833</td>\n",
       "      <td>1.437500</td>\n",
       "      <td>1.000000</td>\n",
       "    </tr>\n",
       "    <tr>\n",
       "      <th>None</th>\n",
       "      <td>21.265101</td>\n",
       "      <td>3214.137584</td>\n",
       "      <td>2.986577</td>\n",
       "      <td>2.328859</td>\n",
       "      <td>35.338926</td>\n",
       "      <td>1.946309</td>\n",
       "      <td>1.137584</td>\n",
       "      <td>1.372483</td>\n",
       "      <td>1.050336</td>\n",
       "    </tr>\n",
       "    <tr>\n",
       "      <th>£100-£1000</th>\n",
       "      <td>21.207792</td>\n",
       "      <td>3150.077922</td>\n",
       "      <td>3.025974</td>\n",
       "      <td>2.305195</td>\n",
       "      <td>36.551948</td>\n",
       "      <td>1.909091</td>\n",
       "      <td>1.162338</td>\n",
       "      <td>1.441558</td>\n",
       "      <td>1.025974</td>\n",
       "    </tr>\n",
       "  </tbody>\n",
       "</table>\n",
       "</div>"
      ],
      "text/plain": [
       "                      Duration-of-Credit-Month  Credit-Amount  \\\n",
       "Value-Savings-Stocks                                            \n",
       "< £100                               23.208333    3272.187500   \n",
       "None                                 21.265101    3214.137584   \n",
       "£100-£1000                           21.207792    3150.077922   \n",
       "\n",
       "                      Instalment-per-cent  Most-valuable-available-asset  \\\n",
       "Value-Savings-Stocks                                                       \n",
       "< £100                           3.104167                       2.729167   \n",
       "None                             2.986577                       2.328859   \n",
       "£100-£1000                       3.025974                       2.305195   \n",
       "\n",
       "                      Age-years  Type-of-apartment  No-of-dependents  \\\n",
       "Value-Savings-Stocks                                                   \n",
       "< £100                33.895833           1.875000          1.145833   \n",
       "None                  35.338926           1.946309          1.137584   \n",
       "£100-£1000            36.551948           1.909091          1.162338   \n",
       "\n",
       "                      Telephone  Foreign-Worker  \n",
       "Value-Savings-Stocks                             \n",
       "< £100                 1.437500        1.000000  \n",
       "None                   1.372483        1.050336  \n",
       "£100-£1000             1.441558        1.025974  "
      ]
     },
     "execution_count": 62,
     "metadata": {},
     "output_type": "execute_result"
    }
   ],
   "source": [
    "df.groupby('Value-Savings-Stocks').mean()"
   ]
  },
  {
   "cell_type": "code",
   "execution_count": 63,
   "metadata": {},
   "outputs": [
    {
     "data": {
      "image/png": "[encoded data removed]",
      "text/plain": [
       "<Figure size 432x288 with 1 Axes>"
      ]
     },
     "metadata": {},
     "output_type": "display_data"
    }
   ],
   "source": [
    "sns.countplot(data = df, x = 'Value-Savings-Stocks', hue = 'Credit-Application-Result', palette = 'hls')\n",
    "plt.show()"
   ]
  },
  {
   "cell_type": "markdown",
   "metadata": {},
   "source": [
    "Having stocks seems to have quite an impact on the outcome of the credit application. "
   ]
  },
  {
   "cell_type": "markdown",
   "metadata": {},
   "source": [
    "#### Length of current employment"
   ]
  },
  {
   "cell_type": "code",
   "execution_count": 64,
   "metadata": {
    "scrolled": false
   },
   "outputs": [
    {
     "data": {
      "text/html": [
       "<div>\n",
       "<style scoped>\n",
       "    .dataframe tbody tr th:only-of-type {\n",
       "        vertical-align: middle;\n",
       "    }\n",
       "\n",
       "    .dataframe tbody tr th {\n",
       "        vertical-align: top;\n",
       "    }\n",
       "\n",
       "    .dataframe thead th {\n",
       "        text-align: right;\n",
       "    }\n",
       "</style>\n",
       "<table border=\"1\" class=\"dataframe\">\n",
       "  <thead>\n",
       "    <tr style=\"text-align: right;\">\n",
       "      <th></th>\n",
       "      <th>Duration-of-Credit-Month</th>\n",
       "      <th>Credit-Amount</th>\n",
       "      <th>Instalment-per-cent</th>\n",
       "      <th>Most-valuable-available-asset</th>\n",
       "      <th>Age-years</th>\n",
       "      <th>Type-of-apartment</th>\n",
       "      <th>No-of-dependents</th>\n",
       "      <th>Telephone</th>\n",
       "      <th>Foreign-Worker</th>\n",
       "    </tr>\n",
       "    <tr>\n",
       "      <th>Length-of-current-employment</th>\n",
       "      <th></th>\n",
       "      <th></th>\n",
       "      <th></th>\n",
       "      <th></th>\n",
       "      <th></th>\n",
       "      <th></th>\n",
       "      <th></th>\n",
       "      <th></th>\n",
       "      <th></th>\n",
       "    </tr>\n",
       "  </thead>\n",
       "  <tbody>\n",
       "    <tr>\n",
       "      <th>1-4 yrs</th>\n",
       "      <td>21.402062</td>\n",
       "      <td>2835.649485</td>\n",
       "      <td>3.051546</td>\n",
       "      <td>2.402062</td>\n",
       "      <td>32.639175</td>\n",
       "      <td>1.835052</td>\n",
       "      <td>1.154639</td>\n",
       "      <td>1.402062</td>\n",
       "      <td>1.010309</td>\n",
       "    </tr>\n",
       "    <tr>\n",
       "      <th>4-7 yrs</th>\n",
       "      <td>21.669355</td>\n",
       "      <td>3168.129032</td>\n",
       "      <td>3.306452</td>\n",
       "      <td>2.604839</td>\n",
       "      <td>43.000000</td>\n",
       "      <td>2.080645</td>\n",
       "      <td>1.193548</td>\n",
       "      <td>1.459677</td>\n",
       "      <td>1.032258</td>\n",
       "    </tr>\n",
       "    <tr>\n",
       "      <th>&lt; 1yr</th>\n",
       "      <td>21.340502</td>\n",
       "      <td>3340.802867</td>\n",
       "      <td>2.863799</td>\n",
       "      <td>2.236559</td>\n",
       "      <td>33.293907</td>\n",
       "      <td>1.892473</td>\n",
       "      <td>1.121864</td>\n",
       "      <td>1.372760</td>\n",
       "      <td>1.050179</td>\n",
       "    </tr>\n",
       "  </tbody>\n",
       "</table>\n",
       "</div>"
      ],
      "text/plain": [
       "                              Duration-of-Credit-Month  Credit-Amount  \\\n",
       "Length-of-current-employment                                            \n",
       "1-4 yrs                                      21.402062    2835.649485   \n",
       "4-7 yrs                                      21.669355    3168.129032   \n",
       "< 1yr                                        21.340502    3340.802867   \n",
       "\n",
       "                              Instalment-per-cent  \\\n",
       "Length-of-current-employment                        \n",
       "1-4 yrs                                  3.051546   \n",
       "4-7 yrs                                  3.306452   \n",
       "< 1yr                                    2.863799   \n",
       "\n",
       "                              Most-valuable-available-asset  Age-years  \\\n",
       "Length-of-current-employment                                             \n",
       "1-4 yrs                                            2.402062  32.639175   \n",
       "4-7 yrs                                            2.604839  43.000000   \n",
       "< 1yr                                              2.236559  33.293907   \n",
       "\n",
       "                              Type-of-apartment  No-of-dependents  Telephone  \\\n",
       "Length-of-current-employment                                                   \n",
       "1-4 yrs                                1.835052          1.154639   1.402062   \n",
       "4-7 yrs                                2.080645          1.193548   1.459677   \n",
       "< 1yr                                  1.892473          1.121864   1.372760   \n",
       "\n",
       "                              Foreign-Worker  \n",
       "Length-of-current-employment                  \n",
       "1-4 yrs                             1.010309  \n",
       "4-7 yrs                             1.032258  \n",
       "< 1yr                               1.050179  "
      ]
     },
     "execution_count": 64,
     "metadata": {},
     "output_type": "execute_result"
    }
   ],
   "source": [
    "df.groupby('Length-of-current-employment').mean()"
   ]
  },
  {
   "cell_type": "code",
   "execution_count": 65,
   "metadata": {},
   "outputs": [
    {
     "data": {
      "image/png": "[encoded data removed]",
      "text/plain": [
       "<Figure size 432x288 with 1 Axes>"
      ]
     },
     "metadata": {},
     "output_type": "display_data"
    }
   ],
   "source": [
    "sns.countplot(data = df, x = 'Length-of-current-employment', hue = 'Credit-Application-Result', palette = 'hls')\n",
    "plt.show()"
   ]
  },
  {
   "cell_type": "markdown",
   "metadata": {},
   "source": [
    "While most of those who apply for credit have been in their current job for less than a year, in proportion, those who have been in their job for longer, are more likely to receive credit. "
   ]
  },
  {
   "cell_type": "markdown",
   "metadata": {},
   "source": [
    "## Model building"
   ]
  },
  {
   "cell_type": "markdown",
   "metadata": {},
   "source": [
    "Recursive feature elimination starts with all features, builds a model, and discards the least important feature according to the model. "
   ]
  },
  {
   "cell_type": "code",
   "execution_count": 66,
   "metadata": {},
   "outputs": [],
   "source": [
    "df['Credit-Application-Result']=np.where(df['Credit-Application-Result'] =='Creditworthy', 1, df['Credit-Application-Result'])\n",
    "df['Credit-Application-Result']=np.where(df['Credit-Application-Result'] =='Non-Creditworthy', 0, df['Credit-Application-Result'])\n",
    "df = df.rename(index=str, columns={\"Credit-Application-Result\": \"target\"})"
   ]
  },
  {
   "cell_type": "code",
   "execution_count": 67,
   "metadata": {},
   "outputs": [],
   "source": [
    "df = pd.get_dummies(df)"
   ]
  },
  {
   "cell_type": "code",
   "execution_count": 68,
   "metadata": {},
   "outputs": [],
   "source": [
    "X_train, X_test, y_train, y_test = train_test_split(df, df['target_0'], random_state = 0, test_size = .35)"
   ]
  },
  {
   "cell_type": "code",
   "execution_count": 69,
   "metadata": {},
   "outputs": [],
   "source": [
    "logreg = linear_model.LogisticRegression()"
   ]
  },
  {
   "cell_type": "code",
   "execution_count": 70,
   "metadata": {
    "scrolled": true
   },
   "outputs": [],
   "source": [
    "rfe = RFE(logreg)\n",
    "rfe = rfe.fit(X_train, y_train)"
   ]
  },
  {
   "cell_type": "code",
   "execution_count": 71,
   "metadata": {},
   "outputs": [
    {
     "name": "stdout",
     "output_type": "stream",
     "text": [
      "Test score: 1.000\n"
     ]
    }
   ],
   "source": [
    "X_train_rfe = rfe.transform(X_train)\n",
    "X_test_rfe = rfe.transform(X_test)\n",
    "score = linear_model.LogisticRegression().fit(X_train_rfe, y_train).score(X_test_rfe, y_test)\n",
    "print('Test score: {:.3f}'.format(score))"
   ]
  },
  {
   "cell_type": "code",
   "execution_count": 72,
   "metadata": {},
   "outputs": [],
   "source": [
    "predict_test = rfe.predict(X_test)"
   ]
  },
  {
   "cell_type": "code",
   "execution_count": 73,
   "metadata": {},
   "outputs": [
    {
     "name": "stdout",
     "output_type": "stream",
     "text": [
      "AUC: 1.000\n"
     ]
    }
   ],
   "source": [
    "auc = roc_auc_score(y_test, predict_test)\n",
    "print('AUC: {:.3f}'.format(auc))"
   ]
  },
  {
   "cell_type": "markdown",
   "metadata": {},
   "source": [
    "Score and AUC values are really high, to the point I fear I may have overfit the model"
   ]
  },
  {
   "cell_type": "markdown",
   "metadata": {},
   "source": [
    "## Prediction"
   ]
  },
  {
   "cell_type": "code",
   "execution_count": 74,
   "metadata": {},
   "outputs": [],
   "source": [
    "to_score_dummies = pd.get_dummies(to_score)"
   ]
  },
  {
   "cell_type": "code",
   "execution_count": 75,
   "metadata": {},
   "outputs": [],
   "source": [
    "prediction = rfe.predict(to_score_dummies)"
   ]
  },
  {
   "cell_type": "code",
   "execution_count": 76,
   "metadata": {},
   "outputs": [],
   "source": [
    "to_score['prediction'] = prediction"
   ]
  },
  {
   "cell_type": "code",
   "execution_count": 77,
   "metadata": {},
   "outputs": [],
   "source": [
    "to_score['prediction'] = to_score['prediction'].map({1 : 'Not_credit_worthy', 0 : 'Credit_worthy'})"
   ]
  },
  {
   "cell_type": "code",
   "execution_count": 78,
   "metadata": {},
   "outputs": [
    {
     "data": {
      "image/png": "[encoded data removed]",
      "text/plain": [
       "<Figure size 432x288 with 1 Axes>"
      ]
     },
     "metadata": {},
     "output_type": "display_data"
    }
   ],
   "source": [
    "sns.countplot(x = 'prediction', data = to_score, palette = 'hls')\n",
    "plt.show()"
   ]
  },
  {
   "cell_type": "code",
   "execution_count": 79,
   "metadata": {},
   "outputs": [
    {
     "data": {
      "text/plain": [
       "Credit_worthy        285\n",
       "Not_credit_worthy    215\n",
       "Name: prediction, dtype: int64"
      ]
     },
     "execution_count": 79,
     "metadata": {},
     "output_type": "execute_result"
    }
   ],
   "source": [
    "to_score['prediction'].value_counts()"
   ]
  },
  {
   "cell_type": "markdown",
   "metadata": {},
   "source": [
    "Out of the 500 new credit applicants only 285 seems to be credit worthy according to the model."
   ]
  }
 ],
 "metadata": {
  "kernelspec": {
   "display_name": "Python [conda env:anaconda3]",
   "language": "python",
   "name": "conda-env-anaconda3-py"
  },
  "language_info": {
   "codemirror_mode": {
    "name": "ipython",
    "version": 3
   },
   "file_extension": ".py",
   "mimetype": "text/x-python",
   "name": "python",
   "nbconvert_exporter": "python",
   "pygments_lexer": "ipython3",
   "version": "3.6.5"
  }
 },
 "nbformat": 4,
 "nbformat_minor": 2
}
